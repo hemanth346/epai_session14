{
 "cells": [
  {
   "cell_type": "markdown",
   "id": "1debc5e3",
   "metadata": {},
   "source": [
    "### Data exploring"
   ]
  },
  {
   "cell_type": "code",
   "execution_count": 1,
   "id": "27cc1ee7",
   "metadata": {
    "ExecuteTime": {
     "end_time": "2021-08-14T19:36:57.082824Z",
     "start_time": "2021-08-14T19:36:57.061428Z"
    }
   },
   "outputs": [],
   "source": [
    "import os\n",
    "files = [f for f in os.listdir('.') if f.endswith('.csv')]"
   ]
  },
  {
   "cell_type": "code",
   "execution_count": 2,
   "id": "06815757",
   "metadata": {
    "ExecuteTime": {
     "end_time": "2021-08-14T19:36:57.162084Z",
     "start_time": "2021-08-14T19:36:57.092030Z"
    }
   },
   "outputs": [
    {
     "data": {
      "text/plain": [
       "['employment.csv', 'personal_info.csv', 'update_status.csv', 'vehicles.csv']"
      ]
     },
     "execution_count": 2,
     "metadata": {},
     "output_type": "execute_result"
    }
   ],
   "source": [
    "files"
   ]
  },
  {
   "cell_type": "code",
   "execution_count": 3,
   "id": "df5df6df",
   "metadata": {
    "ExecuteTime": {
     "end_time": "2021-08-14T19:36:57.193865Z",
     "start_time": "2021-08-14T19:36:57.171028Z"
    }
   },
   "outputs": [],
   "source": [
    "import csv\n",
    "import datetime\n",
    "from itertools import islice\n",
    "\n",
    "def preview_csv(fname):\n",
    "    if not fname.endswith('.csv'):\n",
    "        raise ValueError('Not a csv file')\n",
    "    with open(fname, 'r') as csvfile:\n",
    "        csv_reader = csv.reader(csvfile)\n",
    "        for row in islice(csv_reader, 5):\n",
    "            print(row)"
   ]
  },
  {
   "cell_type": "code",
   "execution_count": 4,
   "id": "01a7c04b",
   "metadata": {
    "ExecuteTime": {
     "end_time": "2021-08-14T19:36:57.240777Z",
     "start_time": "2021-08-14T19:36:57.200063Z"
    }
   },
   "outputs": [
    {
     "name": "stdout",
     "output_type": "stream",
     "text": [
      "Preview of employment.csv\n",
      "['employer', 'department', 'employee_id', 'ssn']\n",
      "['Stiedemann-Bailey', 'Research and Development', '29-0890771', '100-53-9824']\n",
      "['Nicolas and Sons', 'Sales', '41-6841359', '101-71-4702']\n",
      "['Connelly Group', 'Research and Development', '98-7952860', '101-84-0356']\n",
      "['Upton LLC', 'Marketing', '56-9817552', '104-22-0928']\n",
      "---------------------------------------------\n",
      "Preview of personal_info.csv\n",
      "['ssn', 'first_name', 'last_name', 'gender', 'language']\n",
      "['100-53-9824', 'Sebastiano', 'Tester', 'Male', 'Icelandic']\n",
      "['101-71-4702', 'Cayla', 'MacDonagh', 'Female', 'Lao']\n",
      "['101-84-0356', 'Nomi', 'Lipprose', 'Female', 'Yiddish']\n",
      "['104-22-0928', 'Justinian', 'Kunzelmann', 'Male', 'Dhivehi']\n",
      "---------------------------------------------\n",
      "Preview of update_status.csv\n",
      "['ssn', 'last_updated', 'created']\n",
      "['100-53-9824', '2017-10-07T00:14:42Z', '2016-01-24T21:19:30Z']\n",
      "['101-71-4702', '2017-01-23T11:23:17Z', '2016-01-27T04:32:57Z']\n",
      "['101-84-0356', '2017-10-04T11:21:30Z', '2016-09-21T23:04:07Z']\n",
      "['104-22-0928', '2017-03-28T12:38:29Z', '2016-04-15T11:37:17Z']\n",
      "---------------------------------------------\n",
      "Preview of vehicles.csv\n",
      "['ssn', 'vehicle_make', 'vehicle_model', 'model_year']\n",
      "['100-53-9824', 'Oldsmobile', 'Bravada', '1993']\n",
      "['101-71-4702', 'Ford', 'Mustang', '1997']\n",
      "['101-84-0356', 'GMC', 'Yukon', '2005']\n",
      "['104-22-0928', 'Oldsmobile', 'Intrigue', '2000']\n",
      "---------------------------------------------\n"
     ]
    }
   ],
   "source": [
    "for f in files:\n",
    "    print(f'Preview of {f}')\n",
    "    preview_csv(f)\n",
    "    print('-'*45)"
   ]
  },
  {
   "cell_type": "markdown",
   "id": "db3d8888",
   "metadata": {},
   "source": [
    "## Goal 1\n",
    "\n",
    "\n",
    "\n",
    "Your first task is to create iterators for each of the four files that contained cleaned up data, of the correct type (e.g. string, int, date, etc), and represented by a named tuple.\n",
    "\n",
    "For now these four iterators are just separate, independent iterators."
   ]
  },
  {
   "cell_type": "code",
   "execution_count": 5,
   "id": "e2ad5622",
   "metadata": {
    "ExecuteTime": {
     "end_time": "2021-08-14T19:36:57.281060Z",
     "start_time": "2021-08-14T19:36:57.247437Z"
    }
   },
   "outputs": [],
   "source": [
    "employer_col = ['STRING', 'STRING','INT','INT']\n",
    "personal_info_col = ['INT', 'STRING', 'STRING', 'STRING','STRING', 'STRING']\n",
    "update_status_col = ['INT','DATETIME','DATETIME']\n",
    "vehicles_col = ['INT', 'STRING', 'STRING','INT']\n",
    "\n",
    "file_col_types = [employer_col, personal_info_col, update_status_col, vehicles_col]"
   ]
  },
  {
   "cell_type": "code",
   "execution_count": 6,
   "id": "558f0036",
   "metadata": {
    "ExecuteTime": {
     "end_time": "2021-08-14T19:36:57.312244Z",
     "start_time": "2021-08-14T19:36:57.286239Z"
    }
   },
   "outputs": [],
   "source": [
    "import datetime\n",
    "from collections import namedtuple\n",
    "\n",
    "def cast(data_type, value):\n",
    "    if data_type == 'INT':\n",
    "        value = value.replace('-','')\n",
    "        return int(value)\n",
    "    elif data_type =='DATETIME':\n",
    "        \n",
    "        return datetime.datetime.strptime(value, '%Y-%m-%dT%H:%M:%SZ')\n",
    "    else:\n",
    "        return str(value)\n",
    "    \n",
    "def cast_row(data_row, data_types):\n",
    "    return [cast(data_type, value) \n",
    "            for data_type, value in zip(data_types, data_row)]\n",
    "\n",
    "\n",
    "def make_iterator_namedtuple(fname, col_types:list):\n",
    "    if not fname.endswith('.csv'):\n",
    "        raise ValueError('Not a csv file')\n",
    "        \n",
    "    with open(fname, 'r') as csvfile:\n",
    "        content = csv.reader(csvfile)\n",
    "        ntuple = namedtuple(fname.split('.')[0], next(content))\n",
    "        for row in content:\n",
    "            row = cast_row(row, col_types)\n",
    "            yield ntuple(*row)\n",
    "\n"
   ]
  },
  {
   "cell_type": "code",
   "execution_count": 7,
   "id": "26c70d07",
   "metadata": {
    "ExecuteTime": {
     "end_time": "2021-08-14T19:36:57.342682Z",
     "start_time": "2021-08-14T19:36:57.318680Z"
    }
   },
   "outputs": [
    {
     "name": "stdout",
     "output_type": "stream",
     "text": [
      "employment.csv ['STRING', 'STRING', 'INT', 'INT']\n",
      "personal_info.csv ['INT', 'STRING', 'STRING', 'STRING', 'STRING', 'STRING']\n",
      "update_status.csv ['INT', 'DATETIME', 'DATETIME']\n",
      "vehicles.csv ['INT', 'STRING', 'STRING', 'INT']\n"
     ]
    }
   ],
   "source": [
    "for fname, col_type in zip(files, file_col_types):\n",
    "    print(fname, col_type)"
   ]
  },
  {
   "cell_type": "code",
   "execution_count": 8,
   "id": "92498db3",
   "metadata": {
    "ExecuteTime": {
     "end_time": "2021-08-14T19:36:57.374012Z",
     "start_time": "2021-08-14T19:36:57.355644Z"
    }
   },
   "outputs": [],
   "source": [
    "employment_iter = make_iterator_namedtuple('employment.csv', employer_col)\n",
    "personal_info_iter = make_iterator_namedtuple('personal_info.csv', personal_info_col)\n",
    "update_status_iter = make_iterator_namedtuple('update_status.csv', update_status_col)\n",
    "vehicles_iter = make_iterator_namedtuple('vehicles.csv', vehicles_col)"
   ]
  },
  {
   "cell_type": "code",
   "execution_count": 9,
   "id": "d8e7e7f4",
   "metadata": {
    "ExecuteTime": {
     "end_time": "2021-08-14T19:36:57.421201Z",
     "start_time": "2021-08-14T19:36:57.382754Z"
    }
   },
   "outputs": [
    {
     "name": "stdout",
     "output_type": "stream",
     "text": [
      "employment(employer='Stiedemann-Bailey', department='Research and Development', employee_id=290890771, ssn=100539824)\n",
      "personal_info(ssn=100539824, first_name='Sebastiano', last_name='Tester', gender='Male', language='Icelandic')\n",
      "update_status(ssn=100539824, last_updated=datetime.datetime(2017, 10, 7, 0, 14, 42), created=datetime.datetime(2016, 1, 24, 21, 19, 30))\n",
      "vehicles(ssn=100539824, vehicle_make='Oldsmobile', vehicle_model='Bravada', model_year=1993)\n",
      "---------------------------------------------\n",
      "employment(employer='Nicolas and Sons', department='Sales', employee_id=416841359, ssn=101714702)\n",
      "personal_info(ssn=101714702, first_name='Cayla', last_name='MacDonagh', gender='Female', language='Lao')\n",
      "update_status(ssn=101714702, last_updated=datetime.datetime(2017, 1, 23, 11, 23, 17), created=datetime.datetime(2016, 1, 27, 4, 32, 57))\n",
      "vehicles(ssn=101714702, vehicle_make='Ford', vehicle_model='Mustang', model_year=1997)\n",
      "---------------------------------------------\n"
     ]
    }
   ],
   "source": [
    "for _ in range(2):\n",
    "    print(next(employment_iter))\n",
    "    print(next(personal_info_iter))\n",
    "    print(next(update_status_iter))\n",
    "    print(next(vehicles_iter))\n",
    "    print('-'*45)"
   ]
  },
  {
   "cell_type": "code",
   "execution_count": 10,
   "id": "a0621b9c",
   "metadata": {
    "ExecuteTime": {
     "end_time": "2021-08-14T19:36:57.452570Z",
     "start_time": "2021-08-14T19:36:57.427800Z"
    }
   },
   "outputs": [
    {
     "name": "stdout",
     "output_type": "stream",
     "text": [
      "['employer', 'department', 'employee_id', 'ssn']\n",
      "['Stiedemann-Bailey', 'Research and Development', '29-0890771', '100-53-9824']\n",
      "['Nicolas and Sons', 'Sales', '41-6841359', '101-71-4702']\n",
      "['Connelly Group', 'Research and Development', '98-7952860', '101-84-0356']\n",
      "['Upton LLC', 'Marketing', '56-9817552', '104-22-0928']\n"
     ]
    }
   ],
   "source": [
    "preview_csv('employment.csv')"
   ]
  },
  {
   "cell_type": "code",
   "execution_count": null,
   "id": "a6c326f6",
   "metadata": {},
   "outputs": [],
   "source": []
  },
  {
   "cell_type": "markdown",
   "id": "3f7fc60a",
   "metadata": {},
   "source": [
    "### Goal 2:\n",
    "Create a single iterable that combines all the columns from all the iterators.\n",
    "\n",
    "The iterable should yield named tuples containing all the columns.\n",
    "Make sure that the SSN's across the files match!\n",
    "\n",
    "All the files are guaranteed to be in SSN sort order, and every SSN is unique, and every SSN appears in every file.\n",
    "\n",
    "Make sure the SSN is not repeated 4 times - one time per row is enough!"
   ]
  },
  {
   "cell_type": "code",
   "execution_count": 11,
   "id": "c82cea46",
   "metadata": {
    "ExecuteTime": {
     "end_time": "2021-08-14T19:36:57.483741Z",
     "start_time": "2021-08-14T19:36:57.460039Z"
    }
   },
   "outputs": [],
   "source": [
    "class OpenFiles:\n",
    "    def __init__(self, file_names, mode):\n",
    "        self.file_names = file_names\n",
    "        self.mode = mode\n",
    "        self.file_objs = []\n",
    "\n",
    "    def __enter__(self):\n",
    "        print('opening files...')\n",
    "        for fname in self.file_names:\n",
    "            self.file_objs.append(open(fname, self.mode))\n",
    "        return [csv.DictReader(fobj) for fobj in self.file_objs]          \n",
    "    \n",
    "    def __exit__(self, exc_type, exc_value, exc_traceback):\n",
    "#         print('closing file...')\n",
    "        _ = [fobj.close() for fobj in self.file_objs]\n",
    "        return False"
   ]
  },
  {
   "cell_type": "code",
   "execution_count": 12,
   "id": "6f64103b",
   "metadata": {
    "ExecuteTime": {
     "end_time": "2021-08-14T19:36:57.514871Z",
     "start_time": "2021-08-14T19:36:57.490737Z"
    }
   },
   "outputs": [],
   "source": [
    "def get_complete_details(files_list):\n",
    "    from collections import ChainMap\n",
    "    complete_details = []\n",
    "    with OpenFiles(files_list, 'r') as csvdictreaders:\n",
    "        headers = set([header for reader in csvdictreaders for header in reader.fieldnames])\n",
    "        details = namedtuple('CompleteDetails', headers)\n",
    "        # https://stackoverflow.com/questions/37584544/dict-merge-in-a-dict-comprehension\n",
    "        try:\n",
    "            while True:\n",
    "                complete_details.append(details(**dict(ChainMap(*[next(c) for c in csvdictreaders]))))\n",
    "        except:\n",
    "            pass\n",
    "    return complete_details"
   ]
  },
  {
   "cell_type": "code",
   "execution_count": 13,
   "id": "4be014ac",
   "metadata": {
    "ExecuteTime": {
     "end_time": "2021-08-14T19:36:57.547978Z",
     "start_time": "2021-08-14T19:36:57.521096Z"
    }
   },
   "outputs": [],
   "source": [
    "def get_merged_casted_details():\n",
    "    employment_iter = make_iterator_namedtuple('employment.csv', employer_col)\n",
    "    personal_info_iter = make_iterator_namedtuple('personal_info.csv', personal_info_col)\n",
    "    update_status_iter = make_iterator_namedtuple('update_status.csv', update_status_col)\n",
    "    vehicles_iter = make_iterator_namedtuple('vehicles.csv', vehicles_col)\n",
    "\n",
    "    # duplicates \n",
    "    # headers = employer_col + personal_info_col + update_status_col + vehicles_col\n",
    "\n",
    "    headers = ['ssn', 'first_name', 'last_name', 'gender', 'language','vehicle_make', 'vehicle_model', 'model_year',\n",
    "         'employer', 'department', 'employee_id','last_updated', 'created']\n",
    "\n",
    "    details = namedtuple('CompleteDetails', headers)\n",
    "\n",
    "    try:\n",
    "        while True:\n",
    "            personal_info = next(personal_info_iter)\n",
    "            ssn, *vehicle= next(vehicles_iter)\n",
    "            *employer, ssn = next(employment_iter)\n",
    "            ssn, *update = next(update_status_iter)\n",
    "            yield details(*personal_info,*vehicle, *employer, *update)\n",
    "    except:\n",
    "        pass"
   ]
  },
  {
   "cell_type": "code",
   "execution_count": 14,
   "id": "18d24877",
   "metadata": {
    "ExecuteTime": {
     "end_time": "2021-08-14T19:36:57.579459Z",
     "start_time": "2021-08-14T19:36:57.558556Z"
    }
   },
   "outputs": [],
   "source": [
    "merged_details = get_merged_casted_details()"
   ]
  },
  {
   "cell_type": "code",
   "execution_count": 15,
   "id": "0d787752",
   "metadata": {
    "ExecuteTime": {
     "end_time": "2021-08-14T19:36:57.627222Z",
     "start_time": "2021-08-14T19:36:57.587061Z"
    }
   },
   "outputs": [
    {
     "name": "stdout",
     "output_type": "stream",
     "text": [
      "CompleteDetails(ssn=100539824, first_name='Sebastiano', last_name='Tester', gender='Male', language='Icelandic', vehicle_make='Oldsmobile', vehicle_model='Bravada', model_year=1993, employer='Stiedemann-Bailey', department='Research and Development', employee_id=290890771, last_updated=datetime.datetime(2017, 10, 7, 0, 14, 42), created=datetime.datetime(2016, 1, 24, 21, 19, 30))\n",
      "----------------------------------------\n",
      "CompleteDetails(ssn=101714702, first_name='Cayla', last_name='MacDonagh', gender='Female', language='Lao', vehicle_make='Ford', vehicle_model='Mustang', model_year=1997, employer='Nicolas and Sons', department='Sales', employee_id=416841359, last_updated=datetime.datetime(2017, 1, 23, 11, 23, 17), created=datetime.datetime(2016, 1, 27, 4, 32, 57))\n",
      "----------------------------------------\n",
      "CompleteDetails(ssn=101840356, first_name='Nomi', last_name='Lipprose', gender='Female', language='Yiddish', vehicle_make='GMC', vehicle_model='Yukon', model_year=2005, employer='Connelly Group', department='Research and Development', employee_id=987952860, last_updated=datetime.datetime(2017, 10, 4, 11, 21, 30), created=datetime.datetime(2016, 9, 21, 23, 4, 7))\n",
      "----------------------------------------\n",
      "CompleteDetails(ssn=104220928, first_name='Justinian', last_name='Kunzelmann', gender='Male', language='Dhivehi', vehicle_make='Oldsmobile', vehicle_model='Intrigue', model_year=2000, employer='Upton LLC', department='Marketing', employee_id=569817552, last_updated=datetime.datetime(2017, 3, 28, 12, 38, 29), created=datetime.datetime(2016, 4, 15, 11, 37, 17))\n",
      "----------------------------------------\n"
     ]
    }
   ],
   "source": [
    "for _ in range(4):\n",
    "    print(next(merged_details))\n",
    "    print('--'*20)"
   ]
  },
  {
   "cell_type": "code",
   "execution_count": null,
   "id": "e853cf0f",
   "metadata": {},
   "outputs": [],
   "source": []
  },
  {
   "cell_type": "markdown",
   "id": "081fb403",
   "metadata": {},
   "source": [
    "### Goal 3\n",
    "\n",
    "Next, you want to identify any stale records, where stale simply means the record has not been updated since 3/1/2017 (e.g. last update date < 3/1/2017). Create an iterator that only contains current records (i.e. not stale) based on the `last_updated` field from the `status_update` file."
   ]
  },
  {
   "cell_type": "code",
   "execution_count": 16,
   "id": "5b1ba1d2",
   "metadata": {
    "ExecuteTime": {
     "end_time": "2021-08-14T19:36:57.659376Z",
     "start_time": "2021-08-14T19:36:57.633951Z"
    }
   },
   "outputs": [],
   "source": [
    "def get_current_records(date:\"mm/dd/yyyy\"):\n",
    "    merged_details = get_merged_casted_details()\n",
    "    date_obj = datetime.datetime.strptime(date,'%m/%d/%Y')\n",
    "    for record in merged_details:\n",
    "        if record.last_updated > date_obj:\n",
    "            yield record"
   ]
  },
  {
   "cell_type": "code",
   "execution_count": 17,
   "id": "09c08ac2",
   "metadata": {
    "ExecuteTime": {
     "end_time": "2021-08-14T19:36:57.690963Z",
     "start_time": "2021-08-14T19:36:57.666856Z"
    }
   },
   "outputs": [],
   "source": [
    "current_records = get_current_records('3/1/2017')"
   ]
  },
  {
   "cell_type": "code",
   "execution_count": 18,
   "id": "1987322c",
   "metadata": {
    "ExecuteTime": {
     "end_time": "2021-08-14T19:36:57.737900Z",
     "start_time": "2021-08-14T19:36:57.697601Z"
    }
   },
   "outputs": [
    {
     "name": "stdout",
     "output_type": "stream",
     "text": [
      "CompleteDetails(ssn=100539824, first_name='Sebastiano', last_name='Tester', gender='Male', language='Icelandic', vehicle_make='Oldsmobile', vehicle_model='Bravada', model_year=1993, employer='Stiedemann-Bailey', department='Research and Development', employee_id=290890771, last_updated=datetime.datetime(2017, 10, 7, 0, 14, 42), created=datetime.datetime(2016, 1, 24, 21, 19, 30))\n",
      "----------------------------------------\n",
      "CompleteDetails(ssn=101840356, first_name='Nomi', last_name='Lipprose', gender='Female', language='Yiddish', vehicle_make='GMC', vehicle_model='Yukon', model_year=2005, employer='Connelly Group', department='Research and Development', employee_id=987952860, last_updated=datetime.datetime(2017, 10, 4, 11, 21, 30), created=datetime.datetime(2016, 9, 21, 23, 4, 7))\n",
      "----------------------------------------\n",
      "CompleteDetails(ssn=104220928, first_name='Justinian', last_name='Kunzelmann', gender='Male', language='Dhivehi', vehicle_make='Oldsmobile', vehicle_model='Intrigue', model_year=2000, employer='Upton LLC', department='Marketing', employee_id=569817552, last_updated=datetime.datetime(2017, 3, 28, 12, 38, 29), created=datetime.datetime(2016, 4, 15, 11, 37, 17))\n",
      "----------------------------------------\n",
      "CompleteDetails(ssn=104847144, first_name='Claudianus', last_name='Brixey', gender='Male', language='Afrikaans', vehicle_make='Ford', vehicle_model='Crown Victoria', model_year=2008, employer='Zemlak-Olson', department='Business Development', employee_id=462886707, last_updated=datetime.datetime(2018, 2, 19, 1, 34, 33), created=datetime.datetime(2016, 3, 15, 14, 7, 57))\n",
      "----------------------------------------\n",
      "CompleteDetails(ssn=105275541, first_name='Federico', last_name='Aggett', gender='Male', language='Chinese', vehicle_make='Ford', vehicle_model='Mustang', model_year=2001, employer='Kohler, Bradtke and Davis', department='Support', employee_id=800975518, last_updated=datetime.datetime(2017, 7, 24, 8, 58, 52), created=datetime.datetime(2016, 7, 23, 17, 58, 35))\n",
      "----------------------------------------\n",
      "CompleteDetails(ssn=105857486, first_name='Angelina', last_name='McAvey', gender='Female', language='Punjabi', vehicle_make='Chrysler', vehicle_model='300', model_year=2008, employer='Roberts, Torphy and Dach', department='Human Resources', employee_id=774895332, last_updated=datetime.datetime(2018, 2, 14, 11, 32, 39), created=datetime.datetime(2016, 12, 15, 5, 46, 43))\n",
      "----------------------------------------\n",
      "CompleteDetails(ssn=105915022, first_name='Moselle', last_name='Apfel', gender='Female', language='Latvian', vehicle_make='Isuzu', vehicle_model='Hombre Space', model_year=2000, employer='Lind-Jast', department='Marketing', employee_id=796418731, last_updated=datetime.datetime(2018, 3, 24, 14, 29, 33), created=datetime.datetime(2016, 3, 24, 3, 43, 3))\n",
      "----------------------------------------\n",
      "CompleteDetails(ssn=105917777, first_name='Audi', last_name='Roach', gender='Female', language='Estonian', vehicle_make='Chevrolet', vehicle_model='Silverado 3500', model_year=2004, employer='Bashirian-Lueilwitz', department='Engineering', employee_id=443328799, last_updated=datetime.datetime(2017, 5, 11, 1, 48, 32), created=datetime.datetime(2016, 5, 31, 0, 38, 13))\n",
      "----------------------------------------\n",
      "CompleteDetails(ssn=106351938, first_name='Mackenzie', last_name='Nussey', gender='Male', language='Swedish', vehicle_make='GMC', vehicle_model='Sonoma Club', model_year=1992, employer='Windler, Marks and Haley', department='Services', employee_id=546271885, last_updated=datetime.datetime(2017, 10, 21, 1, 7, 28), created=datetime.datetime(2016, 9, 8, 4, 2, 12))\n",
      "----------------------------------------\n",
      "CompleteDetails(ssn=106363293, first_name='Martino', last_name='Tregoning', gender='Male', language='Tok Pisin', vehicle_make='Volkswagen', vehicle_model='Touareg', model_year=2008, employer='Leffler-Hahn', department='Accounting', employee_id=315735282, last_updated=datetime.datetime(2017, 3, 18, 18, 24, 17), created=datetime.datetime(2016, 5, 16, 21, 21, 36))\n",
      "----------------------------------------\n"
     ]
    }
   ],
   "source": [
    "for _ in range(10):\n",
    "    print(next(current_records))\n",
    "    print('--'*20)"
   ]
  },
  {
   "cell_type": "code",
   "execution_count": null,
   "id": "7abc6706",
   "metadata": {},
   "outputs": [],
   "source": []
  },
  {
   "cell_type": "markdown",
   "id": "657df4b4",
   "metadata": {},
   "source": [
    "### Goal 4\n",
    "\n",
    "Find the largest group of car makes for each gender.\n",
    "\n",
    "Possibly more than one such group per gender exists (equal sizes)."
   ]
  },
  {
   "cell_type": "code",
   "execution_count": 19,
   "id": "34079871",
   "metadata": {
    "ExecuteTime": {
     "end_time": "2021-08-14T19:36:57.768817Z",
     "start_time": "2021-08-14T19:36:57.745452Z"
    }
   },
   "outputs": [],
   "source": [
    "from collections import Counter"
   ]
  },
  {
   "cell_type": "code",
   "execution_count": 20,
   "id": "ed3ec0b4",
   "metadata": {
    "ExecuteTime": {
     "end_time": "2021-08-14T19:36:57.918543Z",
     "start_time": "2021-08-14T19:36:57.775646Z"
    }
   },
   "outputs": [],
   "source": [
    "male_groups = Counter()\n",
    "female_groups = Counter()\n",
    "merged_records = get_merged_casted_details()\n",
    "\n",
    "for record in merged_records:\n",
    "    if record.gender.lower() == 'male':\n",
    "        male_groups[record.vehicle_make] += 1\n",
    "    elif record.gender.lower() == 'female':\n",
    "        female_groups[record.vehicle_make] += 1\n",
    "    else:\n",
    "        continue"
   ]
  },
  {
   "cell_type": "code",
   "execution_count": 21,
   "id": "0d0c1198",
   "metadata": {
    "ExecuteTime": {
     "end_time": "2021-08-14T19:36:57.934391Z",
     "start_time": "2021-08-14T19:36:57.920548Z"
    }
   },
   "outputs": [
    {
     "data": {
      "text/plain": [
       "[('Ford', 44), ('Chevrolet', 38)]"
      ]
     },
     "execution_count": 21,
     "metadata": {},
     "output_type": "execute_result"
    }
   ],
   "source": [
    "male_groups.most_common(2)"
   ]
  },
  {
   "cell_type": "code",
   "execution_count": 22,
   "id": "23fd1f15",
   "metadata": {
    "ExecuteTime": {
     "end_time": "2021-08-14T19:36:57.981107Z",
     "start_time": "2021-08-14T19:36:57.937596Z"
    }
   },
   "outputs": [
    {
     "data": {
      "text/plain": [
       "[('Ford', 48),\n",
       " ('Chevrolet', 48),\n",
       " ('Mitsubishi', 25),\n",
       " ('Toyota', 24),\n",
       " ('GMC', 23)]"
      ]
     },
     "execution_count": 22,
     "metadata": {},
     "output_type": "execute_result"
    }
   ],
   "source": [
    "female_groups.most_common(5)"
   ]
  },
  {
   "cell_type": "code",
   "execution_count": 23,
   "id": "b4b3fc42",
   "metadata": {
    "ExecuteTime": {
     "end_time": "2021-08-14T19:36:58.042985Z",
     "start_time": "2021-08-14T19:36:58.010829Z"
    }
   },
   "outputs": [
    {
     "data": {
      "text/plain": [
       "(Counter({'Oldsmobile': 6,\n",
       "          'Ford': 44,\n",
       "          'GMC': 31,\n",
       "          'Volkswagen': 19,\n",
       "          'Aston Martin': 4,\n",
       "          'Mercedes-Benz': 23,\n",
       "          'Buick': 17,\n",
       "          'Audi': 17,\n",
       "          'Isuzu': 3,\n",
       "          'Acura': 10,\n",
       "          'Pontiac': 13,\n",
       "          'Jaguar': 5,\n",
       "          'Chevrolet': 38,\n",
       "          'Dodge': 25,\n",
       "          'Infiniti': 9,\n",
       "          'Mitsubishi': 29,\n",
       "          'Plymouth': 5,\n",
       "          'Subaru': 8,\n",
       "          'Lincoln': 7,\n",
       "          'Cadillac': 11,\n",
       "          'Toyota': 26,\n",
       "          'Mazda': 14,\n",
       "          'Volvo': 10,\n",
       "          'Jeep': 7,\n",
       "          'Maserati': 5,\n",
       "          'Mercury': 12,\n",
       "          'BMW': 12,\n",
       "          'Hyundai': 10,\n",
       "          'Chrysler': 3,\n",
       "          'Lexus': 8,\n",
       "          'Kia': 6,\n",
       "          'Saturn': 3,\n",
       "          'Maybach': 2,\n",
       "          'Honda': 10,\n",
       "          'Nissan': 7,\n",
       "          'Scion': 1,\n",
       "          'Bentley': 3,\n",
       "          'Saab': 8,\n",
       "          'Jensen': 1,\n",
       "          'Smart': 1,\n",
       "          'Porsche': 5,\n",
       "          'Land Rover': 3,\n",
       "          'Suzuki': 5,\n",
       "          'Panoz': 2,\n",
       "          'Hummer': 1,\n",
       "          'Rolls-Royce': 2,\n",
       "          'Lamborghini': 4,\n",
       "          'Geo': 2,\n",
       "          'Corbin': 1,\n",
       "          'Lotus': 5,\n",
       "          'Daewoo': 1,\n",
       "          'Aptera': 1,\n",
       "          'Eagle': 1,\n",
       "          'Austin': 1}),\n",
       " Counter({'Ford': 48,\n",
       "          'GMC': 23,\n",
       "          'Chrysler': 8,\n",
       "          'Isuzu': 3,\n",
       "          'Chevrolet': 48,\n",
       "          'Bugatti': 1,\n",
       "          'Scion': 3,\n",
       "          'Rolls-Royce': 2,\n",
       "          'Plymouth': 4,\n",
       "          'Cadillac': 6,\n",
       "          'Lexus': 17,\n",
       "          'Porsche': 5,\n",
       "          'Jeep': 6,\n",
       "          'BMW': 13,\n",
       "          'Lotus': 7,\n",
       "          'Land Rover': 9,\n",
       "          'Toyota': 24,\n",
       "          'Mercury': 9,\n",
       "          'Volvo': 15,\n",
       "          'Nissan': 12,\n",
       "          'Mitsubishi': 25,\n",
       "          'Acura': 11,\n",
       "          'Audi': 14,\n",
       "          'Mercedes-Benz': 18,\n",
       "          'Honda': 10,\n",
       "          'Mazda': 15,\n",
       "          'Kia': 9,\n",
       "          'Suzuki': 13,\n",
       "          'Dodge': 20,\n",
       "          'Saturn': 3,\n",
       "          'Subaru': 9,\n",
       "          'Volkswagen': 11,\n",
       "          'Bentley': 5,\n",
       "          'Pontiac': 14,\n",
       "          'Aston Martin': 2,\n",
       "          'Buick': 11,\n",
       "          'Infiniti': 9,\n",
       "          'Lamborghini': 3,\n",
       "          'Eagle': 1,\n",
       "          'Saab': 3,\n",
       "          'Jaguar': 3,\n",
       "          'Hyundai': 4,\n",
       "          'Oldsmobile': 8,\n",
       "          'Geo': 1,\n",
       "          'Lincoln': 4,\n",
       "          'Smart': 1,\n",
       "          'Morgan': 1,\n",
       "          'Austin': 1,\n",
       "          'Panoz': 1}))"
      ]
     },
     "execution_count": 23,
     "metadata": {},
     "output_type": "execute_result"
    }
   ],
   "source": [
    "male_groups, female_groups"
   ]
  },
  {
   "cell_type": "code",
   "execution_count": null,
   "id": "53a46b27",
   "metadata": {},
   "outputs": [],
   "source": []
  },
  {
   "cell_type": "code",
   "execution_count": null,
   "id": "604a13c0",
   "metadata": {},
   "outputs": [],
   "source": []
  }
 ],
 "metadata": {
  "kernelspec": {
   "display_name": "Python 3",
   "language": "python",
   "name": "python3"
  },
  "language_info": {
   "codemirror_mode": {
    "name": "ipython",
    "version": 3
   },
   "file_extension": ".py",
   "mimetype": "text/x-python",
   "name": "python",
   "nbconvert_exporter": "python",
   "pygments_lexer": "ipython3",
   "version": "3.9.1"
  },
  "varInspector": {
   "cols": {
    "lenName": 16,
    "lenType": 16,
    "lenVar": 40
   },
   "kernels_config": {
    "python": {
     "delete_cmd_postfix": "",
     "delete_cmd_prefix": "del ",
     "library": "var_list.py",
     "varRefreshCmd": "print(var_dic_list())"
    },
    "r": {
     "delete_cmd_postfix": ") ",
     "delete_cmd_prefix": "rm(",
     "library": "var_list.r",
     "varRefreshCmd": "cat(var_dic_list()) "
    }
   },
   "types_to_exclude": [
    "module",
    "function",
    "builtin_function_or_method",
    "instance",
    "_Feature"
   ],
   "window_display": false
  }
 },
 "nbformat": 4,
 "nbformat_minor": 5
}
